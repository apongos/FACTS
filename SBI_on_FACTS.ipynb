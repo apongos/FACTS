{
 "cells": [
  {
   "cell_type": "code",
   "execution_count": 31,
   "id": "a8ab934e",
   "metadata": {},
   "outputs": [],
   "source": [
    "import sys\n",
    "import torch\n",
    "import global_variables as gv\n",
    "import sys\n",
    "import numpy as np\n",
    "import matplotlib.pyplot as plt\n",
    "import configparser\n",
    "from FACTS_Modules.Model import model_factory\n",
    "from FACTS_Modules.util import string2dtype_array\n",
    "from FACTS_Modules.TADA import MakeGestScore\n",
    "from facts_visualizations import single_trial_plots, multi_trial_plots\n",
    "import os \n",
    "import pdb\n",
    "import seaborn as sns"
   ]
  },
  {
   "cell_type": "code",
   "execution_count": 2,
   "id": "ac317ff3",
   "metadata": {},
   "outputs": [],
   "source": [
    "def simulator(theta):\n",
    "    ini='DesignA_pert.ini'\n",
    "    gFile='GesturalScores/KimetalOnlinepert2.G'\n",
    "    config = configparser.ConfigParser()\n",
    "    config.read(ini)\n",
    "\n",
    "    # Replace the parameter value from ini file\n",
    "    #pdb.set_trace()\n",
    "    try:\n",
    "        if theta.numel() > 1:\n",
    "            config['SensoryNoise']['Somato_sensor_scale'] = str(theta[0].item())\n",
    "        else:\n",
    "            #pdb.set_trace()\n",
    "            config['SensoryNoise']['Somato_sensor_scale'] = str(theta.item())\n",
    "    except:\n",
    "        pdb.set_trace()\n",
    "\n",
    "    model = model_factory(config)\n",
    "    #pdb.set_trace()\n",
    "    if 'MultTrials' in config.sections(): \n",
    "        ntrials = int(config['MultTrials']['ntrials'])\n",
    "        target_noise= float(config['MultTrials']['Target_noise'])\n",
    "    else: \n",
    "        ntrials = 1\n",
    "        target_noise = 0\n",
    "\n",
    "    #pdb.set_trace()\n",
    "    gest_name = gFile.split('/')[-1]\n",
    "    np.random.seed(100)\n",
    "    GestScore, ART, ms_frm, last_frm = MakeGestScore(gFile,target_noise)\n",
    "    \n",
    "    # initialize vectors to monitor position at each timestep\n",
    "    a_record = np.empty([ntrials,last_frm,gv.a_dim])\n",
    "    x_record = np.empty([ntrials,last_frm,gv.x_dim])\n",
    "    formant_record = np.empty([ntrials,last_frm,3])\n",
    "    shift_record = np.empty([ntrials,last_frm,3])\n",
    "    a_tilde_record = np.empty([ntrials,last_frm,gv.a_dim])\n",
    "    a_dot_record = np.empty([ntrials,last_frm,gv.a_dim])\n",
    "    a_dotdot_record = np.empty([ntrials,last_frm,gv.a_dim])\n",
    "    predict_formant_record = np.empty([ntrials,last_frm,3])\n",
    "\n",
    "    #Check if catch trials (no perturbation) are specified in the config file\n",
    "    if 'CatchTrials' in config.keys():\n",
    "        catch_trials = string2dtype_array(config['CatchTrials']['catch_trials'], dtype='int')\n",
    "        catch_types = string2dtype_array(config['CatchTrials']['catch_types'], dtype='int')\n",
    "        if len(catch_trials) != len(catch_types):\n",
    "            raise Exception(\"Catch trial and catch type lengths not matching, please check the config file.\")\n",
    "    else: catch_trials = np.array([])\n",
    "\n",
    "    #pdb.set_trace()\n",
    "\n",
    "    #Run FACTS for each trial\n",
    "    for trial in range(ntrials):\n",
    "        print(\"trial:\", trial)\n",
    "        #Gestural score (task)\n",
    "        GestScore, ART, ms_frm, last_frm = MakeGestScore(gFile,target_noise)         #this is similar with MakeGest in the matlab version\n",
    "\n",
    "        # initial condition\n",
    "        x_tilde = string2dtype_array(config['InitialCondition']['x_tilde_init'],'float')\n",
    "        a_tilde = string2dtype_array(config['InitialCondition']['a_tilde_init'],'float')\n",
    "        a_actual = string2dtype_array(config['InitialCondition']['a_tilde_init'],'float')\n",
    "        model.artic_sfc_law.reset_prejb() #save the initial artic-to-task model.\n",
    "\n",
    "        if trial in catch_trials: catch = catch_types[np.where(catch_trials==trial)[0][0]]\n",
    "        else: catch = False\n",
    "        print(\"catch:\", catch)\n",
    "        \n",
    "        for i_frm in range(last_frm):\n",
    "            #model function runs FACTS by each frame\n",
    "            x_tilde, a_tilde, a_actual, formants, formants_shifted, adotdot, y_hat = model.run_one_timestep(x_tilde, a_tilde, a_actual, GestScore, ART, ms_frm, i_frm, trial, catch)\n",
    "            \n",
    "            #save the FACTS results\n",
    "            a_record[trial, i_frm,:] = a_actual[0:gv.a_dim]\n",
    "            a_tilde_record[trial, i_frm,:] = a_tilde[0:gv.a_dim]\n",
    "            a_dot_record[trial, i_frm,:] = a_tilde[gv.a_dim:]\n",
    "            x_record[trial, i_frm,:] = x_tilde[0:gv.x_dim]\n",
    "            formant_record[trial, i_frm,:] = formants\n",
    "            predict_formant_record[trial, i_frm,:] = y_hat\n",
    "            shift_record[trial, i_frm, :] = formants_shifted\n",
    "            a_dotdot_record[trial, i_frm,:] = adotdot\n",
    "    #pdb.set_trace()\n",
    "    return formant_record[:,:,0].squeeze() \n"
   ]
  },
  {
   "cell_type": "markdown",
   "id": "4d1111d3",
   "metadata": {},
   "source": [
    "## Run an example trails of FACTS, just to make sure out data look okay later"
   ]
  },
  {
   "cell_type": "code",
   "execution_count": 43,
   "id": "0afac149",
   "metadata": {
    "scrolled": true
   },
   "outputs": [
    {
     "name": "stdout",
     "output_type": "stream",
     "text": [
      "Artic SFC Law Model Type:  lwpr\n",
      "[ 5.32 17.59 25.89]\n",
      "[-3999999.00062613   166666.66669271   166666.66669271   166666.66669271\n",
      "   166666.66669271   166666.66669271   166666.66669271   166666.66669271\n",
      "   166666.66669271   166666.66669271   166666.66669271   166666.66669271\n",
      "   166666.66669271   166666.66669271   166666.66669271   166666.66669271\n",
      "   166666.66669271   166666.66669271   166666.66669271   166666.66669271\n",
      "   166666.66669271   166666.66669271   166666.66669271   166666.66669271\n",
      "   166666.66669271]\n",
      "Task State Estimator Model Type:  lwpr\n",
      "trial: 0\n",
      "catch: False\n"
     ]
    }
   ],
   "source": [
    "# Print an example trial \n",
    "example = simulator(torch.tensor([0.000737]))"
   ]
  },
  {
   "cell_type": "markdown",
   "id": "559d3181",
   "metadata": {},
   "source": [
    "## Load observed data from Inez's study"
   ]
  },
  {
   "cell_type": "code",
   "execution_count": 50,
   "id": "a8a1dd7f",
   "metadata": {},
   "outputs": [
    {
     "name": "stdout",
     "output_type": "stream",
     "text": [
      "(1, 116)\n",
      "(116,)\n",
      "(16, 729)\n",
      "\n",
      "\n",
      "(1, 116)\n",
      "(116,)\n",
      "(1, 729)\n"
     ]
    },
    {
     "data": {
      "text/plain": [
       "Text(0, 0.5, 'F1 HZ')"
      ]
     },
     "execution_count": 50,
     "metadata": {},
     "output_type": "execute_result"
    },
    {
     "data": {
      "image/png": "[encoded data removed]",
      "text/plain": [
       "<Figure size 432x288 with 1 Axes>"
      ]
     },
     "metadata": {
      "needs_background": "light"
     },
     "output_type": "display_data"
    },
    {
     "data": {
      "image/png": "[encoded data removed]",
      "text/plain": [
       "<Figure size 432x288 with 1 Axes>"
      ]
     },
     "metadata": {
      "needs_background": "light"
     },
     "output_type": "display_data"
    }
   ],
   "source": [
    "# Import real observed data\n",
    "import scipy.io\n",
    "\n",
    "trial_cells_mat = scipy.io.loadmat('sbi_resources/formant_pert_data.mat')\n",
    "trial_cells = trial_cells_mat['trial_cells']\n",
    "trial_cells_times = scipy.io.loadmat('sbi_resources/formant_pert_data_times.mat')['trial_time_cells']\n",
    "\n",
    "# Alter the trial_cells so that they center to where FACTS centers\n",
    "trial_cells = trial_cells + 531\n",
    "print(trial_cells.shape)\n",
    "print(trial_cells[0].shape)\n",
    "print(trial_cells[0][0].shape) # \n",
    "print(\"\\n\")\n",
    "print(trial_cells_times.shape)\n",
    "print(trial_cells_times[0].shape)\n",
    "print(trial_cells_times[0][0].shape)\n",
    "\n",
    "plt.plot(trial_cells_times[0][0][0,:]*1000, trial_cells[0][0][0,:])\n",
    "plt.title('Real observations')\n",
    "\n",
    "# Now realign so that \n",
    "plt.figure()\n",
    "plt.title('FACTS')\n",
    "example_x = (np.arange(len(example))*5)-200\n",
    "plt.plot(example_x,example)\n",
    "plt.xlabel('Time (ms)')\n",
    "plt.ylabel('F1 HZ')"
   ]
  },
  {
   "cell_type": "markdown",
   "id": "ba24e760",
   "metadata": {},
   "source": [
    "## Perform SBI using FACTS and Inez's data"
   ]
  },
  {
   "cell_type": "code",
   "execution_count": 4,
   "id": "a99bf867",
   "metadata": {
    "scrolled": true
   },
   "outputs": [
    {
     "name": "stdout",
     "output_type": "stream",
     "text": [
      "Artic SFC Law Model Type:  lwpr\n",
      "[ 5.32 17.59 25.89]\n",
      "[-3999999.00062613   166666.66669271   166666.66669271   166666.66669271\n",
      "   166666.66669271   166666.66669271   166666.66669271   166666.66669271\n",
      "   166666.66669271   166666.66669271   166666.66669271   166666.66669271\n",
      "   166666.66669271   166666.66669271   166666.66669271   166666.66669271\n",
      "   166666.66669271   166666.66669271   166666.66669271   166666.66669271\n",
      "   166666.66669271   166666.66669271   166666.66669271   166666.66669271\n",
      "   166666.66669271]\n",
      "Task State Estimator Model Type:  lwpr\n",
      "trial: 0\n",
      "catch: False\n",
      "Artic SFC Law Model Type:  lwpr\n",
      "[ 5.32 17.59 25.89]\n",
      "[-3999999.00062613   166666.66669271   166666.66669271   166666.66669271\n",
      "   166666.66669271   166666.66669271   166666.66669271   166666.66669271\n",
      "   166666.66669271   166666.66669271   166666.66669271   166666.66669271\n",
      "   166666.66669271   166666.66669271   166666.66669271   166666.66669271\n",
      "   166666.66669271   166666.66669271   166666.66669271   166666.66669271\n",
      "   166666.66669271   166666.66669271   166666.66669271   166666.66669271\n",
      "   166666.66669271]\n",
      "Task State Estimator Model Type:  lwpr\n",
      "trial: 0\n",
      "catch: False\n"
     ]
    },
    {
     "data": {
      "application/vnd.jupyter.widget-view+json": {
       "model_id": "349749f451914219a8c4b414dcd0ad5f",
       "version_major": 2,
       "version_minor": 0
      },
      "text/plain": [
       "Running 10 simulations.:   0%|          | 0/10 [00:00<?, ?it/s]"
      ]
     },
     "metadata": {},
     "output_type": "display_data"
    },
    {
     "name": "stdout",
     "output_type": "stream",
     "text": [
      "Artic SFC Law Model Type:  lwpr\n",
      "[ 5.32 17.59 25.89]\n",
      "[-3999999.00062613   166666.66669271   166666.66669271   166666.66669271\n",
      "   166666.66669271   166666.66669271   166666.66669271   166666.66669271\n",
      "   166666.66669271   166666.66669271   166666.66669271   166666.66669271\n",
      "   166666.66669271   166666.66669271   166666.66669271   166666.66669271\n",
      "   166666.66669271   166666.66669271   166666.66669271   166666.66669271\n",
      "   166666.66669271   166666.66669271   166666.66669271   166666.66669271\n",
      "   166666.66669271]\n",
      "Task State Estimator Model Type:  lwpr\n",
      "trial: 0\n",
      "catch: False\n",
      "Artic SFC Law Model Type:  lwpr\n",
      "[ 5.32 17.59 25.89]\n",
      "[-3999999.00062613   166666.66669271   166666.66669271   166666.66669271\n",
      "   166666.66669271   166666.66669271   166666.66669271   166666.66669271\n",
      "   166666.66669271   166666.66669271   166666.66669271   166666.66669271\n",
      "   166666.66669271   166666.66669271   166666.66669271   166666.66669271\n",
      "   166666.66669271   166666.66669271   166666.66669271   166666.66669271\n",
      "   166666.66669271   166666.66669271   166666.66669271   166666.66669271\n",
      "   166666.66669271]\n",
      "Task State Estimator Model Type:  lwpr\n",
      "trial: 0\n",
      "catch: False\n",
      "Artic SFC Law Model Type:  lwpr\n",
      "[ 5.32 17.59 25.89]\n",
      "[-3999999.00062613   166666.66669271   166666.66669271   166666.66669271\n",
      "   166666.66669271   166666.66669271   166666.66669271   166666.66669271\n",
      "   166666.66669271   166666.66669271   166666.66669271   166666.66669271\n",
      "   166666.66669271   166666.66669271   166666.66669271   166666.66669271\n",
      "   166666.66669271   166666.66669271   166666.66669271   166666.66669271\n",
      "   166666.66669271   166666.66669271   166666.66669271   166666.66669271\n",
      "   166666.66669271]\n",
      "Task State Estimator Model Type:  lwpr\n",
      "trial: 0\n",
      "catch: False\n",
      "Artic SFC Law Model Type:  lwpr\n",
      "[ 5.32 17.59 25.89]\n",
      "[-3999999.00062613   166666.66669271   166666.66669271   166666.66669271\n",
      "   166666.66669271   166666.66669271   166666.66669271   166666.66669271\n",
      "   166666.66669271   166666.66669271   166666.66669271   166666.66669271\n",
      "   166666.66669271   166666.66669271   166666.66669271   166666.66669271\n",
      "   166666.66669271   166666.66669271   166666.66669271   166666.66669271\n",
      "   166666.66669271   166666.66669271   166666.66669271   166666.66669271\n",
      "   166666.66669271]\n",
      "Task State Estimator Model Type:  lwpr\n",
      "trial: 0\n",
      "catch: False\n",
      "Artic SFC Law Model Type:  lwpr\n",
      "[ 5.32 17.59 25.89]\n",
      "[-3999999.00062613   166666.66669271   166666.66669271   166666.66669271\n",
      "   166666.66669271   166666.66669271   166666.66669271   166666.66669271\n",
      "   166666.66669271   166666.66669271   166666.66669271   166666.66669271\n",
      "   166666.66669271   166666.66669271   166666.66669271   166666.66669271\n",
      "   166666.66669271   166666.66669271   166666.66669271   166666.66669271\n",
      "   166666.66669271   166666.66669271   166666.66669271   166666.66669271\n",
      "   166666.66669271]\n",
      "Task State Estimator Model Type:  lwpr\n",
      "trial: 0\n",
      "catch: False\n",
      "Artic SFC Law Model Type:  lwpr\n",
      "[ 5.32 17.59 25.89]\n",
      "[-3999999.00062613   166666.66669271   166666.66669271   166666.66669271\n",
      "   166666.66669271   166666.66669271   166666.66669271   166666.66669271\n",
      "   166666.66669271   166666.66669271   166666.66669271   166666.66669271\n",
      "   166666.66669271   166666.66669271   166666.66669271   166666.66669271\n",
      "   166666.66669271   166666.66669271   166666.66669271   166666.66669271\n",
      "   166666.66669271   166666.66669271   166666.66669271   166666.66669271\n",
      "   166666.66669271]\n",
      "Task State Estimator Model Type:  lwpr\n",
      "trial: 0\n",
      "catch: False\n",
      "Artic SFC Law Model Type:  lwpr\n",
      "[ 5.32 17.59 25.89]\n",
      "[-3999999.00062613   166666.66669271   166666.66669271   166666.66669271\n",
      "   166666.66669271   166666.66669271   166666.66669271   166666.66669271\n",
      "   166666.66669271   166666.66669271   166666.66669271   166666.66669271\n",
      "   166666.66669271   166666.66669271   166666.66669271   166666.66669271\n",
      "   166666.66669271   166666.66669271   166666.66669271   166666.66669271\n",
      "   166666.66669271   166666.66669271   166666.66669271   166666.66669271\n",
      "   166666.66669271]\n",
      "Task State Estimator Model Type:  lwpr\n",
      "trial: 0\n",
      "catch: False\n",
      "Artic SFC Law Model Type:  lwpr\n",
      "[ 5.32 17.59 25.89]\n",
      "[-3999999.00062613   166666.66669271   166666.66669271   166666.66669271\n",
      "   166666.66669271   166666.66669271   166666.66669271   166666.66669271\n",
      "   166666.66669271   166666.66669271   166666.66669271   166666.66669271\n",
      "   166666.66669271   166666.66669271   166666.66669271   166666.66669271\n",
      "   166666.66669271   166666.66669271   166666.66669271   166666.66669271\n",
      "   166666.66669271   166666.66669271   166666.66669271   166666.66669271\n",
      "   166666.66669271]\n",
      "Task State Estimator Model Type:  lwpr\n",
      "trial: 0\n",
      "catch: False\n",
      "Artic SFC Law Model Type:  lwpr\n",
      "[ 5.32 17.59 25.89]\n",
      "[-3999999.00062613   166666.66669271   166666.66669271   166666.66669271\n",
      "   166666.66669271   166666.66669271   166666.66669271   166666.66669271\n",
      "   166666.66669271   166666.66669271   166666.66669271   166666.66669271\n",
      "   166666.66669271   166666.66669271   166666.66669271   166666.66669271\n",
      "   166666.66669271   166666.66669271   166666.66669271   166666.66669271\n",
      "   166666.66669271   166666.66669271   166666.66669271   166666.66669271\n",
      "   166666.66669271]\n",
      "Task State Estimator Model Type:  lwpr\n",
      "trial: 0\n",
      "catch: False\n",
      "Artic SFC Law Model Type:  lwpr\n",
      "[ 5.32 17.59 25.89]\n",
      "[-3999999.00062613   166666.66669271   166666.66669271   166666.66669271\n",
      "   166666.66669271   166666.66669271   166666.66669271   166666.66669271\n",
      "   166666.66669271   166666.66669271   166666.66669271   166666.66669271\n",
      "   166666.66669271   166666.66669271   166666.66669271   166666.66669271\n",
      "   166666.66669271   166666.66669271   166666.66669271   166666.66669271\n",
      "   166666.66669271   166666.66669271   166666.66669271   166666.66669271\n",
      "   166666.66669271]\n",
      "Task State Estimator Model Type:  lwpr\n",
      "trial: 0\n",
      "catch: False\n"
     ]
    },
    {
     "name": "stderr",
     "output_type": "stream",
     "text": [
      "/Users/alvincepongos/opt/anaconda3/envs/facts_sbi_env/lib/python3.6/site-packages/sbi/neural_nets/flow.py:108: UserWarning: In one-dimensional output space, this flow is limited to Gaussians\n",
      "  warn(f\"In one-dimensional output space, this flow is limited to Gaussians\")\n"
     ]
    },
    {
     "name": "stdout",
     "output_type": "stream",
     "text": [
      "Neural network successfully converged after 21 epochs.\n"
     ]
    }
   ],
   "source": [
    "from sbi.inference import infer\n",
    "from sbi import utils as utils\n",
    "# import facts_for_SBI\n",
    "\n",
    "# import your simulator, define your prior over the parameters\n",
    "prior_mean = 0.000737\n",
    "prior_min= [0.0001]\n",
    "prior_mmax = [0.001] \n",
    "# prior = torch.distributions.Uniform(torch.as_tensor(mmin), torch.as_tensor(mmax) )\n",
    "prior = utils.torchutils.BoxUniform(torch.as_tensor(prior_min), torch.as_tensor(prior_mmax) )\n",
    "parameter_posterior = infer(simulator, prior, method='SNPE', num_simulations=10)\n",
    "\n",
    "\n",
    "\n"
   ]
  },
  {
   "cell_type": "code",
   "execution_count": 6,
   "id": "e5d0a9e6",
   "metadata": {
    "scrolled": true
   },
   "outputs": [
    {
     "ename": "NameError",
     "evalue": "name 'observation' is not defined",
     "output_type": "error",
     "traceback": [
      "\u001b[0;31m---------------------------------------------------------------------------\u001b[0m",
      "\u001b[0;31mNameError\u001b[0m                                 Traceback (most recent call last)",
      "\u001b[0;32m<ipython-input-6-008f1067c7ee>\u001b[0m in \u001b[0;36m<module>\u001b[0;34m\u001b[0m\n\u001b[0;32m----> 1\u001b[0;31m \u001b[0msamples\u001b[0m \u001b[0;34m=\u001b[0m \u001b[0mparameter_posterior\u001b[0m\u001b[0;34m.\u001b[0m\u001b[0msample\u001b[0m\u001b[0;34m(\u001b[0m\u001b[0;34m(\u001b[0m\u001b[0;36m200\u001b[0m\u001b[0;34m,\u001b[0m\u001b[0;34m)\u001b[0m\u001b[0;34m,\u001b[0m \u001b[0mx\u001b[0m\u001b[0;34m=\u001b[0m\u001b[0mobservation\u001b[0m\u001b[0;34m[\u001b[0m\u001b[0;36m0\u001b[0m\u001b[0;34m]\u001b[0m\u001b[0;34m)\u001b[0m\u001b[0;34m\u001b[0m\u001b[0;34m\u001b[0m\u001b[0m\n\u001b[0m\u001b[1;32m      2\u001b[0m \u001b[0mlog_probability\u001b[0m \u001b[0;34m=\u001b[0m \u001b[0mparameter_posterior\u001b[0m\u001b[0;34m.\u001b[0m\u001b[0mlog_prob\u001b[0m\u001b[0;34m(\u001b[0m\u001b[0msamples\u001b[0m\u001b[0;34m,\u001b[0m \u001b[0mx\u001b[0m\u001b[0;34m=\u001b[0m\u001b[0mobservation\u001b[0m\u001b[0;34m[\u001b[0m\u001b[0;36m0\u001b[0m\u001b[0;34m]\u001b[0m\u001b[0;34m)\u001b[0m\u001b[0;34m\u001b[0m\u001b[0;34m\u001b[0m\u001b[0m\n\u001b[1;32m      3\u001b[0m \u001b[0mout\u001b[0m \u001b[0;34m=\u001b[0m \u001b[0mutils\u001b[0m\u001b[0;34m.\u001b[0m\u001b[0mpairplot\u001b[0m\u001b[0;34m(\u001b[0m\u001b[0msamples\u001b[0m\u001b[0;34m,\u001b[0m \u001b[0mlimits\u001b[0m\u001b[0;34m=\u001b[0m\u001b[0;34m[\u001b[0m\u001b[0;34m[\u001b[0m\u001b[0;34m-\u001b[0m\u001b[0;36m5\u001b[0m\u001b[0;34m,\u001b[0m\u001b[0;36m5\u001b[0m\u001b[0;34m]\u001b[0m\u001b[0;34m,\u001b[0m\u001b[0;34m[\u001b[0m\u001b[0;34m-\u001b[0m\u001b[0;36m5\u001b[0m\u001b[0;34m,\u001b[0m\u001b[0;36m5\u001b[0m\u001b[0;34m]\u001b[0m\u001b[0;34m]\u001b[0m\u001b[0;34m,\u001b[0m \u001b[0mfig_size\u001b[0m\u001b[0;34m=\u001b[0m\u001b[0;34m(\u001b[0m\u001b[0;36m6\u001b[0m\u001b[0;34m,\u001b[0m\u001b[0;36m6\u001b[0m\u001b[0;34m)\u001b[0m\u001b[0;34m,\u001b[0m \u001b[0mupper\u001b[0m\u001b[0;34m=\u001b[0m\u001b[0;34m'kde'\u001b[0m\u001b[0;34m,\u001b[0m \u001b[0mdiag\u001b[0m\u001b[0;34m=\u001b[0m\u001b[0;34m'kde'\u001b[0m\u001b[0;34m)\u001b[0m\u001b[0;34m\u001b[0m\u001b[0;34m\u001b[0m\u001b[0m\n",
      "\u001b[0;31mNameError\u001b[0m: name 'observation' is not defined"
     ]
    }
   ],
   "source": [
    "samples = parameter_posterior.sample((200,), x=observation[0])\n",
    "log_probability = parameter_posterior.log_prob(samples, x=observation[0])\n",
    "out = utils.pairplot(samples, limits=[[-5,5],[-5,5]], fig_size=(6,6), upper='kde', diag='kde')"
   ]
  },
  {
   "cell_type": "code",
   "execution_count": 55,
   "id": "8bd26963",
   "metadata": {},
   "outputs": [],
   "source": [
    "n_observations = 5\n",
    "observation = torch.tensor([3., -1.5])[None] + 0.5*torch.randn(n_observations, 2)"
   ]
  },
  {
   "cell_type": "code",
   "execution_count": 60,
   "id": "3dd21b61",
   "metadata": {},
   "outputs": [
    {
     "data": {
      "image/png": "[encoded data removed]",
      "text/plain": [
       "<Figure size 432x288 with 1 Axes>"
      ]
     },
     "metadata": {
      "needs_background": "light"
     },
     "output_type": "display_data"
    }
   ],
   "source": [
    "import seaborn as sns\n",
    "sns.scatterplot(x=observation[:, 0], y=observation[:, 1])\n",
    "plt.xlabel('x1')\n",
    "plt.ylabel('x2')\n",
    "plt.xlim(-10, 10)\n",
    "plt.ylim(-10, 10)\n",
    "plt.show()"
   ]
  },
  {
   "cell_type": "code",
   "execution_count": null,
   "id": "12e6aba9",
   "metadata": {},
   "outputs": [],
   "source": []
  }
 ],
 "metadata": {
  "kernelspec": {
   "display_name": "Python 3",
   "language": "python",
   "name": "python3"
  },
  "language_info": {
   "codemirror_mode": {
    "name": "ipython",
    "version": 3
   },
   "file_extension": ".py",
   "mimetype": "text/x-python",
   "name": "python",
   "nbconvert_exporter": "python",
   "pygments_lexer": "ipython3",
   "version": "3.6.10"
  },
  "varInspector": {
   "cols": {
    "lenName": 16,
    "lenType": 16,
    "lenVar": 40
   },
   "kernels_config": {
    "python": {
     "delete_cmd_postfix": "",
     "delete_cmd_prefix": "del ",
     "library": "var_list.py",
     "varRefreshCmd": "print(var_dic_list())"
    },
    "r": {
     "delete_cmd_postfix": ") ",
     "delete_cmd_prefix": "rm(",
     "library": "var_list.r",
     "varRefreshCmd": "cat(var_dic_list()) "
    }
   },
   "types_to_exclude": [
    "module",
    "function",
    "builtin_function_or_method",
    "instance",
    "_Feature"
   ],
   "window_display": false
  }
 },
 "nbformat": 4,
 "nbformat_minor": 5
}
